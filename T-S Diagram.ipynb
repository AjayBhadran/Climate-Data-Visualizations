{
 "cells": [
  {
   "cell_type": "markdown",
   "id": "f5066858",
   "metadata": {},
   "source": [
    "# Packages"
   ]
  },
  {
   "cell_type": "code",
   "execution_count": null,
   "id": "d2af4bc4",
   "metadata": {},
   "outputs": [],
   "source": [
    "import pandas as pd\n",
    "import numpy as np\n",
    "import xarray as xr\n",
    "import matplotlib.pyplot as plt\n",
    "import seawater as sw\n",
    "import gsw"
   ]
  },
  {
   "cell_type": "markdown",
   "id": "882c0753",
   "metadata": {},
   "source": [
    "# load Data Sets"
   ]
  },
  {
   "cell_type": "code",
   "execution_count": null,
   "id": "fa46000a",
   "metadata": {},
   "outputs": [],
   "source": [
    "SaL=pd.DataFrame(sal) # Salinity Data\n",
    "TeP=pd.DataFrame(tmp)# Temperature Data\n",
    "\n",
    "mint=TeP.min()\n",
    "maxt=TeP.max()\n",
    "\n",
    "mins=SaL.min()\n",
    "maxs=SaL.max()\n",
    "\n",
    "tempL=np.linspace(mint-1,maxt+1,run++1) #run++1 Number of points()\n",
    "\n",
    "salL=np.linspace(mins-1,maxs+1,run++1)\n",
    "\n",
    "Tg, Sg = np.meshgrid(tempL,salL)\n",
    "sigma_theta = gsw.sigma0(Sg, Tg)\n",
    "cnt = np.linspace(sigma_theta.min(), sigma_theta.max(),run++1) \n",
    " \n",
    "fig,ax=plt.subplots(figsize=(10,10))\n",
    "cs = ax.contour(Sg, Tg, sigma_theta, zorder=10,levels=np.arange(20,30,0.5))\n",
    "cl=plt.clabel(cs,fontsize=10,inline=False)\n",
    "ax.add_patch( Rectangle((34.6,8),0.4, 15,fc='none',color ='green',linewidth = 3,linestyle=\"dotted\") )# Check the T-S value for Corresponding water masses\n",
    "ax.add_patch( Rectangle((33.8,25),1.5, 3,fc='none',color ='purple',linewidth = 2,linestyle=\"dotted\") )\n",
    "ax.text(34,26,\"BBW\",color='purple',fontsize=15)\n",
    "ax.add_patch( Rectangle((35.5,24), 1, 4,fc='none',color ='red',linewidth = 2,linestyle=\"dotted\") )\n",
    "ax.text(36.2,26,\"ASW\",color='red',fontsize=15)\n",
    "ax.add_patch( Rectangle((34.4,8), 0.6, 15,fc='none',color ='red',linewidth = 2,linestyle=\"dotted\") )\n",
    "ax.text(34.45,12,\"IUW\",color='red',fontsize=15)\n",
    "ax.add_patch( Rectangle((34.6,8), 1.2, 17,fc='none',color ='orange',linewidth = 4,linestyle=\"dotted\") )\n",
    "ax.text(34.70,16,\"SICW\",color='orange',fontsize=15)\n",
    "ax.add_patch( Rectangle((34.8,5),0.6, 9,fc='none',color ='blue',linewidth = 2,linestyle=\"dotted\") )\n",
    "ax.text(35,7,\"RSPGIW\",color='blue',fontsize=15)\n",
    "ax.add_patch( Rectangle((33.8,2),1, 8,fc='none',color ='red',linewidth = 2,linestyle=\"dotted\") )\n",
    "ax.text(34.2,4,\"AAIW\",color='red',fontsize=15)\n",
    "sc=plt.scatter(SaL,TeP,c=cnt,s=5)\n",
    "cb=plt.colorbar(sc)\n",
    "ax.set_xlabel('Salinity($‰$)')\n",
    "ax.set_ylabel('Temperature[$^\\circ$C]')\n",
    "ax.set_title('T-S (Temperature and Salinity) Diagram')\n",
    "#ax.xaxis.set_major_locator(MaxNLocator(nbins=6))\n",
    "#ax.xaxis.set_major_locator()\n",
    "#ax.yaxis.set_major_locator(MaxNLocator(nbins=8))\n",
    "#ax.tick_params(direction=’out’)\n",
    "ax.tick_params(direction='out')\n",
    "cb.ax.tick_params(direction='out')\n",
    "cb.set_label('Density[Kg m$^{-3}$]')\n",
    "plt.tight_layout()\n",
    "#plt.savefig('Temperature-Salinity Diagram of CTD-26',format='jpeg')\n"
   ]
  }
 ],
 "metadata": {
  "kernelspec": {
   "display_name": "Python 3 (ipykernel)",
   "language": "python",
   "name": "python3"
  },
  "language_info": {
   "codemirror_mode": {
    "name": "ipython",
    "version": 3
   },
   "file_extension": ".py",
   "mimetype": "text/x-python",
   "name": "python",
   "nbconvert_exporter": "python",
   "pygments_lexer": "ipython3",
   "version": "3.9.12"
  }
 },
 "nbformat": 4,
 "nbformat_minor": 5
}
