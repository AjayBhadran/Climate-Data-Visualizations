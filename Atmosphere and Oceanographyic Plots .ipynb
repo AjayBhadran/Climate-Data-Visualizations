{
 "cells": [
  {
   "cell_type": "code",
   "execution_count": null,
   "id": "11d16f91",
   "metadata": {},
   "outputs": [],
   "source": [
    "import pandas as pd\n",
    "\n",
    "import matplotlib.pyplot as plt\n",
    "\n",
    "# create a sample wind data frame\n",
    "\n",
    "\n",
    "# create wind rose plot\n",
    "fig, ax = plt.subplots(subplot_kw={'projection': 'windrose'})\n",
    "ax.bar(wnd_dr,np.sqrt(wnd*wnd), normed=True, opening=0.8, edgecolor='white')\n",
    "ax.set_legend(title='Wind Speed (m/s)')\n",
    "ax.legend(loc='lower right')\n",
    "\n",
    "plt.savefig('Windrose.png',dpi=400)"
   ]
  }
 ],
 "metadata": {
  "kernelspec": {
   "display_name": "Python 3 (ipykernel)",
   "language": "python",
   "name": "python3"
  },
  "language_info": {
   "codemirror_mode": {
    "name": "ipython",
    "version": 3
   },
   "file_extension": ".py",
   "mimetype": "text/x-python",
   "name": "python",
   "nbconvert_exporter": "python",
   "pygments_lexer": "ipython3",
   "version": "3.9.13"
  },
  "toc": {
   "base_numbering": 1,
   "nav_menu": {},
   "number_sections": true,
   "sideBar": true,
   "skip_h1_title": false,
   "title_cell": "Table of Contents",
   "title_sidebar": "Contents",
   "toc_cell": false,
   "toc_position": {},
   "toc_section_display": true,
   "toc_window_display": false
  }
 },
 "nbformat": 4,
 "nbformat_minor": 5
}
